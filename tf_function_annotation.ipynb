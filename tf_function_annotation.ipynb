{
  "nbformat": 4,
  "nbformat_minor": 0,
  "metadata": {
    "colab": {
      "name": "tf_function_annotation.ipynb",
      "provenance": [],
      "authorship_tag": "ABX9TyM1obVkestZkMGHDyAYKL0X",
      "include_colab_link": true
    },
    "kernelspec": {
      "name": "python3",
      "display_name": "Python 3"
    }
  },
  "cells": [
    {
      "cell_type": "markdown",
      "metadata": {
        "id": "view-in-github",
        "colab_type": "text"
      },
      "source": [
        "<a href=\"https://colab.research.google.com/github/Jin-jin-jara/misc/blob/master/tf_function_annotation.ipynb\" target=\"_parent\"><img src=\"https://colab.research.google.com/assets/colab-badge.svg\" alt=\"Open In Colab\"/></a>"
      ]
    },
    {
      "cell_type": "code",
      "metadata": {
        "id": "-soU3vjjwRRc",
        "colab_type": "code",
        "colab": {
          "base_uri": "https://localhost:8080/",
          "height": 35
        },
        "outputId": "d323005e-0e4e-4ca6-dd0b-694e37fb25dc"
      },
      "source": [
        "%tensorflow_version 2.x\n",
        "import tensorflow as tf"
      ],
      "execution_count": 2,
      "outputs": [
        {
          "output_type": "stream",
          "text": [
            "TensorFlow 2.x selected.\n"
          ],
          "name": "stdout"
        }
      ]
    },
    {
      "cell_type": "markdown",
      "metadata": {
        "id": "m30hmQyqwYqN",
        "colab_type": "text"
      },
      "source": [
        "tf.function : tf.function의 새로운 특징은 오토그래프 (AutoGraph)입니다. tf.function을 함수에 붙여줄 경우, 여전히 다른 일반 함수들처럼 사용할 수 있습니다. 하지만 그래프 내에서 컴파일 되었을 때는 더 빠르게 실행하고, GPU나 TPU를 사용해서 작동하고, 세이브드모델(SavedModel)로 내보내는 것이 가능해집니다."
      ]
    },
    {
      "cell_type": "code",
      "metadata": {
        "id": "thLsgc_JwPmd",
        "colab_type": "code",
        "colab": {
          "base_uri": "https://localhost:8080/",
          "height": 35
        },
        "outputId": "3878458b-8a42-4615-df0a-63aec6e51c06"
      },
      "source": [
        "@tf.function\n",
        "def f(x, y):\n",
        "  return x**2 + y\n",
        "\n",
        "x = tf.constant([2,3])   # <tf.Tensor: shape=(2,), dtype=int32, numpy=array([2, 3], dtype=int32)>\n",
        "y = tf.constant([3, -2])   # <tf.Tensor: shape=(2,), dtype=int32, numpy=array([ 3, -2], dtype=int32)>\n",
        "\n",
        "# 작동 방식은 일반 함수와 똑같다!\n",
        "\n",
        "f(x, y)  # <tf.Tensor: shape=(2,), dtype=int32, numpy=array([7, 7], dtype=int32)>"
      ],
      "execution_count": 3,
      "outputs": [
        {
          "output_type": "execute_result",
          "data": {
            "text/plain": [
              "<tf.Tensor: shape=(2,), dtype=int32, numpy=array([7, 7], dtype=int32)>"
            ]
          },
          "metadata": {
            "tags": []
          },
          "execution_count": 3
        }
      ]
    },
    {
      "cell_type": "code",
      "metadata": {
        "id": "wYSLSp80wRby",
        "colab_type": "code",
        "colab": {
          "base_uri": "https://localhost:8080/",
          "height": 53
        },
        "outputId": "0d28e888-c4a3-4238-bd02-91b7c7808ac3"
      },
      "source": [
        "@tf.function\n",
        "def square_if_positive(x):\n",
        "  if x > 0:\n",
        "    x = x * x\n",
        "  else:\n",
        "    x = 0\n",
        "  return x\n",
        "\n",
        "\n",
        "print('square_if_positive(2) = {}'.format(square_if_positive(tf.constant(2))))\n",
        "print('square_if_positive(-2) = {}'.format(square_if_positive(tf.constant(-2))))"
      ],
      "execution_count": 4,
      "outputs": [
        {
          "output_type": "stream",
          "text": [
            "square_if_positive(2) = 4\n",
            "square_if_positive(-2) = 0\n"
          ],
          "name": "stdout"
        }
      ]
    },
    {
      "cell_type": "code",
      "metadata": {
        "id": "k10Z5VUPwclI",
        "colab_type": "code",
        "colab": {
          "base_uri": "https://localhost:8080/",
          "height": 35
        },
        "outputId": "40c05972-49bc-4e7b-899c-a0bbf03513bc"
      },
      "source": [
        "@tf.function\n",
        "def return_square(x):\n",
        "  if x[0] > 0:\n",
        "    return x**2\n",
        "  else:\n",
        "    return x\n",
        "\n",
        "return_square(tf.constant([2, -2]))"
      ],
      "execution_count": 5,
      "outputs": [
        {
          "output_type": "execute_result",
          "data": {
            "text/plain": [
              "<tf.Tensor: shape=(2,), dtype=int32, numpy=array([4, 4], dtype=int32)>"
            ]
          },
          "metadata": {
            "tags": []
          },
          "execution_count": 5
        }
      ]
    },
    {
      "cell_type": "code",
      "metadata": {
        "id": "zz5Z8h4Twgi2",
        "colab_type": "code",
        "colab": {
          "base_uri": "https://localhost:8080/",
          "height": 35
        },
        "outputId": "408cc31c-7214-44f7-d0d9-2328394b3ee9"
      },
      "source": [
        "def return_square(x):\n",
        "  if x[0] > 0:\n",
        "    return x**2\n",
        "  else:\n",
        "    return x\n",
        "\n",
        "return_square(tf.constant([2, -2]))"
      ],
      "execution_count": 6,
      "outputs": [
        {
          "output_type": "execute_result",
          "data": {
            "text/plain": [
              "<tf.Tensor: shape=(2,), dtype=int32, numpy=array([4, 4], dtype=int32)>"
            ]
          },
          "metadata": {
            "tags": []
          },
          "execution_count": 6
        }
      ]
    }
  ]
}